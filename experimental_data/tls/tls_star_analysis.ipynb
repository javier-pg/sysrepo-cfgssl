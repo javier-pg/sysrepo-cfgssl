{
 "cells": [
  {
   "cell_type": "markdown",
   "metadata": {},
   "source": [
    "## Configuration"
   ]
  },
  {
   "cell_type": "code",
   "execution_count": 29,
   "metadata": {},
   "outputs": [],
   "source": [
    "# Data management\n",
    "import pandas as pd\n",
    "import numpy as np\n",
    "import re\n",
    "\n",
    "# Files\n",
    "import os\n",
    "\n",
    "# Graphics\n",
    "import matplotlib.pyplot as plt\n",
    "from matplotlib.pyplot import text\n",
    "import seaborn as sns\n",
    "sns.set(font_scale=1.4)\n",
    "sns.set_style(\"whitegrid\")\n",
    "sns.set_style({'font.family':'monospace'})\n",
    "import matplotlib.ticker as plticker"
   ]
  },
  {
   "cell_type": "markdown",
   "metadata": {},
   "source": [
    "## Use case for mesh scenario\n"
   ]
  },
  {
   "cell_type": "code",
   "execution_count": 31,
   "metadata": {},
   "outputs": [
    {
     "data": {
      "text/html": [
       "<div>\n",
       "<style scoped>\n",
       "    .dataframe tbody tr th:only-of-type {\n",
       "        vertical-align: middle;\n",
       "    }\n",
       "\n",
       "    .dataframe tbody tr th {\n",
       "        vertical-align: top;\n",
       "    }\n",
       "\n",
       "    .dataframe thead th {\n",
       "        text-align: right;\n",
       "    }\n",
       "</style>\n",
       "<table border=\"1\" class=\"dataframe\">\n",
       "  <thead>\n",
       "    <tr style=\"text-align: right;\">\n",
       "      <th></th>\n",
       "      <th>Number of nodes</th>\n",
       "      <th>TLS time</th>\n",
       "    </tr>\n",
       "  </thead>\n",
       "  <tbody>\n",
       "  </tbody>\n",
       "</table>\n",
       "</div>"
      ],
      "text/plain": [
       "Empty DataFrame\n",
       "Columns: [Number of nodes, TLS time]\n",
       "Index: []"
      ]
     },
     "metadata": {},
     "output_type": "display_data"
    },
    {
     "name": "stdout",
     "output_type": "stream",
     "text": [
      "Star with 5 nodes: 0.00810999999999984 secs\n",
      "Star with 10 nodes: 0.133082 secs\n",
      "Star with 15 nodes: 0.154064 secs\n",
      "Star with 20 nodes: 0.1572499999999999 secs\n",
      "Star with 25 nodes: 0.204928 secs\n",
      "Star with 30 nodes: 0.8352300000000001 secs\n",
      "Star with 35 nodes: 1.021916 secs\n",
      "Star with 40 nodes: 1.1824370000000002 secs\n",
      "Star with 45 nodes: 1.546308 secs\n",
      "Star with 50 nodes: 1.964074 secs\n",
      "Star with 55 nodes: 2.63029 secs\n",
      "Star with 60 nodes: 2.8725129999999996 secs\n",
      "Star with 65 nodes: 3.2943320000000003 secs\n",
      "Star with 70 nodes: 3.795062 secs\n",
      "Star with 75 nodes: 4.350856 secs\n",
      "Star with 80 nodes: 5.252530000000001 secs\n"
     ]
    },
    {
     "data": {
      "text/html": [
       "<div>\n",
       "<style scoped>\n",
       "    .dataframe tbody tr th:only-of-type {\n",
       "        vertical-align: middle;\n",
       "    }\n",
       "\n",
       "    .dataframe tbody tr th {\n",
       "        vertical-align: top;\n",
       "    }\n",
       "\n",
       "    .dataframe thead th {\n",
       "        text-align: right;\n",
       "    }\n",
       "</style>\n",
       "<table border=\"1\" class=\"dataframe\">\n",
       "  <thead>\n",
       "    <tr style=\"text-align: right;\">\n",
       "      <th></th>\n",
       "      <th>Number of nodes</th>\n",
       "      <th>TLS time</th>\n",
       "    </tr>\n",
       "  </thead>\n",
       "  <tbody>\n",
       "    <tr>\n",
       "      <th>0</th>\n",
       "      <td>5</td>\n",
       "      <td>0.008110</td>\n",
       "    </tr>\n",
       "    <tr>\n",
       "      <th>1</th>\n",
       "      <td>10</td>\n",
       "      <td>0.133082</td>\n",
       "    </tr>\n",
       "    <tr>\n",
       "      <th>2</th>\n",
       "      <td>15</td>\n",
       "      <td>0.154064</td>\n",
       "    </tr>\n",
       "    <tr>\n",
       "      <th>3</th>\n",
       "      <td>20</td>\n",
       "      <td>0.157250</td>\n",
       "    </tr>\n",
       "    <tr>\n",
       "      <th>4</th>\n",
       "      <td>25</td>\n",
       "      <td>0.204928</td>\n",
       "    </tr>\n",
       "  </tbody>\n",
       "</table>\n",
       "</div>"
      ],
      "text/plain": [
       "   Number of nodes  TLS time\n",
       "0                5  0.008110\n",
       "1               10  0.133082\n",
       "2               15  0.154064\n",
       "3               20  0.157250\n",
       "4               25  0.204928"
      ]
     },
     "execution_count": 31,
     "metadata": {},
     "output_type": "execute_result"
    }
   ],
   "source": [
    "tls_times = pd.DataFrame(columns={'Number of nodes', 'TLS time'})\n",
    "display(tls_times)\n",
    "for i in range(5,81,5):\n",
    "    df = pd.read_csv(\"tls\"+str(i)+\".csv\", sep=\",\")\n",
    "    print(f\"Star with {i} nodes: {df.iloc[-1,1]-df.iloc[0,1]} secs\")    \n",
    "    tls_times.loc[len(tls_times.index)] = [i, df.iloc[-1,1]-df.iloc[0,1]]\n",
    "tls_times['Number of nodes']=tls_times['Number of nodes'].astype('int')\n",
    "tls_times.head()"
   ]
  },
  {
   "cell_type": "code",
   "execution_count": 35,
   "metadata": {},
   "outputs": [
    {
     "data": {
      "image/png": "[encoded data removed]",
      "text/plain": [
       "<Figure size 648x432 with 1 Axes>"
      ]
     },
     "metadata": {},
     "output_type": "display_data"
    }
   ],
   "source": [
    "fig, ax = plt.subplots(1,1,figsize=(9,6))\n",
    "\n",
    "ax = sns.lineplot(x=\"Number of nodes\",y=\"TLS time\",data=tls_times)\n",
    "\n",
    "ax.set_title('Protection of star network')\n",
    "ax.set_ylabel('TLS Time (secs)')\n",
    "ax.set_xlabel('Number of nodes')\n",
    "\n",
    "#ax.set_ylim(0,max(times.service_time)+1)\n",
    "plt.xticks(np.arange(5, 81, 5))\n",
    "\n",
    "#plt.gca().xaxis.grid(True)\n",
    "plt.tight_layout()\n",
    "plt.savefig(\"tlsStar.pdf\")"
   ]
  }
 ],
 "metadata": {
  "kernelspec": {
   "display_name": "Python 3",
   "language": "python",
   "name": "python3"
  },
  "language_info": {
   "codemirror_mode": {
    "name": "ipython",
    "version": 3
   },
   "file_extension": ".py",
   "mimetype": "text/x-python",
   "name": "python",
   "nbconvert_exporter": "python",
   "pygments_lexer": "ipython3",
   "version": "3.7.4"
  }
 },
 "nbformat": 4,
 "nbformat_minor": 4
}
