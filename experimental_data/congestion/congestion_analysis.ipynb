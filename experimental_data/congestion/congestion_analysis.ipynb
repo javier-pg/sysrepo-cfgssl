{
 "cells": [
  {
   "cell_type": "markdown",
   "metadata": {},
   "source": [
    "## Configuration"
   ]
  },
  {
   "cell_type": "code",
   "execution_count": 10,
   "metadata": {},
   "outputs": [],
   "source": [
    "# Data management\n",
    "import pandas as pd\n",
    "import numpy as np\n",
    "\n",
    "# Graphics\n",
    "import matplotlib.pyplot as plt\n",
    "from matplotlib.pyplot import text\n",
    "import seaborn as sns\n",
    "sns.set(font_scale=1.4)\n",
    "sns.set_style(\"whitegrid\")\n",
    "sns.set_style({'font.family':'monospace'})\n",
    "import matplotlib.ticker as plticker"
   ]
  },
  {
   "cell_type": "markdown",
   "metadata": {},
   "source": [
    "## Use case for mesh scenario\n"
   ]
  },
  {
   "cell_type": "code",
   "execution_count": 11,
   "metadata": {},
   "outputs": [
    {
     "data": {
      "text/html": [
       "<div>\n",
       "<style scoped>\n",
       "    .dataframe tbody tr th:only-of-type {\n",
       "        vertical-align: middle;\n",
       "    }\n",
       "\n",
       "    .dataframe tbody tr th {\n",
       "        vertical-align: top;\n",
       "    }\n",
       "\n",
       "    .dataframe thead th {\n",
       "        text-align: right;\n",
       "    }\n",
       "</style>\n",
       "<table border=\"1\" class=\"dataframe\">\n",
       "  <thead>\n",
       "    <tr style=\"text-align: right;\">\n",
       "      <th></th>\n",
       "      <th>No.</th>\n",
       "      <th>Time</th>\n",
       "      <th>Source</th>\n",
       "      <th>Destination</th>\n",
       "      <th>Protocol</th>\n",
       "      <th>Length</th>\n",
       "      <th>Info</th>\n",
       "    </tr>\n",
       "  </thead>\n",
       "  <tbody>\n",
       "    <tr>\n",
       "      <th>0</th>\n",
       "      <td>2129</td>\n",
       "      <td>37.141235</td>\n",
       "      <td>10.0.1.200</td>\n",
       "      <td>10.0.1.20</td>\n",
       "      <td>TCP</td>\n",
       "      <td>74</td>\n",
       "      <td>59268  &gt;  830 [SYN] Seq=0 Win=64240 Len=0 MSS=...</td>\n",
       "    </tr>\n",
       "    <tr>\n",
       "      <th>1</th>\n",
       "      <td>2130</td>\n",
       "      <td>37.141329</td>\n",
       "      <td>10.0.1.20</td>\n",
       "      <td>10.0.1.200</td>\n",
       "      <td>TCP</td>\n",
       "      <td>74</td>\n",
       "      <td>830  &gt;  59268 [SYN, ACK] Seq=0 Ack=1 Win=65160...</td>\n",
       "    </tr>\n",
       "  </tbody>\n",
       "</table>\n",
       "</div>"
      ],
      "text/plain": [
       "    No.       Time      Source Destination Protocol  Length  \\\n",
       "0  2129  37.141235  10.0.1.200   10.0.1.20      TCP      74   \n",
       "1  2130  37.141329   10.0.1.20  10.0.1.200      TCP      74   \n",
       "\n",
       "                                                Info  \n",
       "0  59268  >  830 [SYN] Seq=0 Win=64240 Len=0 MSS=...  \n",
       "1  830  >  59268 [SYN, ACK] Seq=0 Ack=1 Win=65160...  "
      ]
     },
     "execution_count": 11,
     "metadata": {},
     "output_type": "execute_result"
    }
   ],
   "source": [
    "times = pd.read_csv('packets.csv', sep=\",\")\n",
    "#times.columns = [\"number_nodes\",\"start\",\"end\",\"service_time\"]\n",
    "times.head(2)"
   ]
  },
  {
   "cell_type": "code",
   "execution_count": 15,
   "metadata": {},
   "outputs": [
    {
     "data": {
      "text/html": [
       "<div>\n",
       "<style scoped>\n",
       "    .dataframe tbody tr th:only-of-type {\n",
       "        vertical-align: middle;\n",
       "    }\n",
       "\n",
       "    .dataframe tbody tr th {\n",
       "        vertical-align: top;\n",
       "    }\n",
       "\n",
       "    .dataframe thead th {\n",
       "        text-align: right;\n",
       "    }\n",
       "</style>\n",
       "<table border=\"1\" class=\"dataframe\">\n",
       "  <thead>\n",
       "    <tr style=\"text-align: right;\">\n",
       "      <th></th>\n",
       "      <th>No.</th>\n",
       "      <th>Time</th>\n",
       "      <th>Source</th>\n",
       "      <th>Destination</th>\n",
       "      <th>Protocol</th>\n",
       "      <th>Length</th>\n",
       "      <th>Info</th>\n",
       "      <th>Stamp</th>\n",
       "    </tr>\n",
       "  </thead>\n",
       "  <tbody>\n",
       "    <tr>\n",
       "      <th>0</th>\n",
       "      <td>2129</td>\n",
       "      <td>37.141235</td>\n",
       "      <td>10.0.1.200</td>\n",
       "      <td>10.0.1.20</td>\n",
       "      <td>TCP</td>\n",
       "      <td>74</td>\n",
       "      <td>59268  &gt;  830 [SYN] Seq=0 Win=64240 Len=0 MSS=...</td>\n",
       "      <td>0.000000</td>\n",
       "    </tr>\n",
       "    <tr>\n",
       "      <th>1</th>\n",
       "      <td>2130</td>\n",
       "      <td>37.141329</td>\n",
       "      <td>10.0.1.20</td>\n",
       "      <td>10.0.1.200</td>\n",
       "      <td>TCP</td>\n",
       "      <td>74</td>\n",
       "      <td>830  &gt;  59268 [SYN, ACK] Seq=0 Ack=1 Win=65160...</td>\n",
       "      <td>0.000094</td>\n",
       "    </tr>\n",
       "    <tr>\n",
       "      <th>2</th>\n",
       "      <td>2131</td>\n",
       "      <td>37.141347</td>\n",
       "      <td>10.0.1.200</td>\n",
       "      <td>10.0.1.20</td>\n",
       "      <td>TCP</td>\n",
       "      <td>66</td>\n",
       "      <td>59268  &gt;  830 [ACK] Seq=1 Ack=1 Win=64256 Len=...</td>\n",
       "      <td>0.000112</td>\n",
       "    </tr>\n",
       "    <tr>\n",
       "      <th>3</th>\n",
       "      <td>2132</td>\n",
       "      <td>37.142385</td>\n",
       "      <td>10.0.1.20</td>\n",
       "      <td>10.0.1.200</td>\n",
       "      <td>TCP</td>\n",
       "      <td>88</td>\n",
       "      <td>830  &gt;  59268 [PSH, ACK] Seq=1 Ack=1 Win=65280...</td>\n",
       "      <td>0.001150</td>\n",
       "    </tr>\n",
       "    <tr>\n",
       "      <th>4</th>\n",
       "      <td>2133</td>\n",
       "      <td>37.142405</td>\n",
       "      <td>10.0.1.200</td>\n",
       "      <td>10.0.1.20</td>\n",
       "      <td>TCP</td>\n",
       "      <td>66</td>\n",
       "      <td>59268  &gt;  830 [ACK] Seq=1 Ack=23 Win=64256 Len...</td>\n",
       "      <td>0.001170</td>\n",
       "    </tr>\n",
       "  </tbody>\n",
       "</table>\n",
       "</div>"
      ],
      "text/plain": [
       "    No.       Time      Source Destination Protocol  Length  \\\n",
       "0  2129  37.141235  10.0.1.200   10.0.1.20      TCP      74   \n",
       "1  2130  37.141329   10.0.1.20  10.0.1.200      TCP      74   \n",
       "2  2131  37.141347  10.0.1.200   10.0.1.20      TCP      66   \n",
       "3  2132  37.142385   10.0.1.20  10.0.1.200      TCP      88   \n",
       "4  2133  37.142405  10.0.1.200   10.0.1.20      TCP      66   \n",
       "\n",
       "                                                Info     Stamp  \n",
       "0  59268  >  830 [SYN] Seq=0 Win=64240 Len=0 MSS=...  0.000000  \n",
       "1  830  >  59268 [SYN, ACK] Seq=0 Ack=1 Win=65160...  0.000094  \n",
       "2  59268  >  830 [ACK] Seq=1 Ack=1 Win=64256 Len=...  0.000112  \n",
       "3  830  >  59268 [PSH, ACK] Seq=1 Ack=1 Win=65280...  0.001150  \n",
       "4  59268  >  830 [ACK] Seq=1 Ack=23 Win=64256 Len...  0.001170  "
      ]
     },
     "execution_count": 15,
     "metadata": {},
     "output_type": "execute_result"
    }
   ],
   "source": [
    "times['Stamp']=times.Time-times.iloc[0,1]\n",
    "times.head(5)"
   ]
  },
  {
   "cell_type": "code",
   "execution_count": 20,
   "metadata": {},
   "outputs": [
    {
     "data": {
      "text/html": [
       "<div>\n",
       "<style scoped>\n",
       "    .dataframe tbody tr th:only-of-type {\n",
       "        vertical-align: middle;\n",
       "    }\n",
       "\n",
       "    .dataframe tbody tr th {\n",
       "        vertical-align: top;\n",
       "    }\n",
       "\n",
       "    .dataframe thead th {\n",
       "        text-align: right;\n",
       "    }\n",
       "</style>\n",
       "<table border=\"1\" class=\"dataframe\">\n",
       "  <thead>\n",
       "    <tr style=\"text-align: right;\">\n",
       "      <th></th>\n",
       "      <th>No.</th>\n",
       "      <th>Time</th>\n",
       "      <th>Source</th>\n",
       "      <th>Destination</th>\n",
       "      <th>Protocol</th>\n",
       "      <th>Length</th>\n",
       "      <th>Info</th>\n",
       "      <th>Stamp</th>\n",
       "    </tr>\n",
       "  </thead>\n",
       "  <tbody>\n",
       "    <tr>\n",
       "      <th>6518</th>\n",
       "      <td>8647</td>\n",
       "      <td>46.398672</td>\n",
       "      <td>10.0.1.200</td>\n",
       "      <td>10.0.1.7</td>\n",
       "      <td>TCP</td>\n",
       "      <td>66</td>\n",
       "      <td>43400  &gt;  830 [FIN, ACK] Seq=111849 Ack=6791 W...</td>\n",
       "      <td>9.257437</td>\n",
       "    </tr>\n",
       "    <tr>\n",
       "      <th>6519</th>\n",
       "      <td>8648</td>\n",
       "      <td>46.416727</td>\n",
       "      <td>10.0.1.200</td>\n",
       "      <td>10.0.1.73</td>\n",
       "      <td>TCP</td>\n",
       "      <td>66</td>\n",
       "      <td>41644  &gt;  830 [FIN, ACK] Seq=117513 Ack=6791 W...</td>\n",
       "      <td>9.275492</td>\n",
       "    </tr>\n",
       "    <tr>\n",
       "      <th>6520</th>\n",
       "      <td>8649</td>\n",
       "      <td>46.419409</td>\n",
       "      <td>10.0.1.69</td>\n",
       "      <td>10.0.1.200</td>\n",
       "      <td>TCP</td>\n",
       "      <td>66</td>\n",
       "      <td>830  &gt;  49136 [ACK] Seq=6791 Ack=96186 Win=641...</td>\n",
       "      <td>9.278174</td>\n",
       "    </tr>\n",
       "    <tr>\n",
       "      <th>6521</th>\n",
       "      <td>8650</td>\n",
       "      <td>46.439418</td>\n",
       "      <td>10.0.1.7</td>\n",
       "      <td>10.0.1.200</td>\n",
       "      <td>TCP</td>\n",
       "      <td>66</td>\n",
       "      <td>830  &gt;  43400 [ACK] Seq=6791 Ack=111850 Win=67...</td>\n",
       "      <td>9.298183</td>\n",
       "    </tr>\n",
       "    <tr>\n",
       "      <th>6522</th>\n",
       "      <td>8651</td>\n",
       "      <td>46.459417</td>\n",
       "      <td>10.0.1.73</td>\n",
       "      <td>10.0.1.200</td>\n",
       "      <td>TCP</td>\n",
       "      <td>66</td>\n",
       "      <td>830  &gt;  41644 [ACK] Seq=6791 Ack=117514 Win=67...</td>\n",
       "      <td>9.318182</td>\n",
       "    </tr>\n",
       "  </tbody>\n",
       "</table>\n",
       "</div>"
      ],
      "text/plain": [
       "       No.       Time      Source Destination Protocol  Length  \\\n",
       "6518  8647  46.398672  10.0.1.200    10.0.1.7      TCP      66   \n",
       "6519  8648  46.416727  10.0.1.200   10.0.1.73      TCP      66   \n",
       "6520  8649  46.419409   10.0.1.69  10.0.1.200      TCP      66   \n",
       "6521  8650  46.439418    10.0.1.7  10.0.1.200      TCP      66   \n",
       "6522  8651  46.459417   10.0.1.73  10.0.1.200      TCP      66   \n",
       "\n",
       "                                                   Info     Stamp  \n",
       "6518  43400  >  830 [FIN, ACK] Seq=111849 Ack=6791 W...  9.257437  \n",
       "6519  41644  >  830 [FIN, ACK] Seq=117513 Ack=6791 W...  9.275492  \n",
       "6520  830  >  49136 [ACK] Seq=6791 Ack=96186 Win=641...  9.278174  \n",
       "6521  830  >  43400 [ACK] Seq=6791 Ack=111850 Win=67...  9.298183  \n",
       "6522  830  >  41644 [ACK] Seq=6791 Ack=117514 Win=67...  9.318182  "
      ]
     },
     "execution_count": 20,
     "metadata": {},
     "output_type": "execute_result"
    }
   ],
   "source": [
    "times.tail(5)"
   ]
  },
  {
   "cell_type": "code",
   "execution_count": 21,
   "metadata": {},
   "outputs": [],
   "source": [
    "times['Second']=np.ceil(times.Stamp)"
   ]
  },
  {
   "cell_type": "code",
   "execution_count": 30,
   "metadata": {},
   "outputs": [
    {
     "data": {
      "text/html": [
       "<div>\n",
       "<style scoped>\n",
       "    .dataframe tbody tr th:only-of-type {\n",
       "        vertical-align: middle;\n",
       "    }\n",
       "\n",
       "    .dataframe tbody tr th {\n",
       "        vertical-align: top;\n",
       "    }\n",
       "\n",
       "    .dataframe thead th {\n",
       "        text-align: right;\n",
       "    }\n",
       "</style>\n",
       "<table border=\"1\" class=\"dataframe\">\n",
       "  <thead>\n",
       "    <tr style=\"text-align: right;\">\n",
       "      <th></th>\n",
       "      <th>No.</th>\n",
       "      <th>Time</th>\n",
       "      <th>Length</th>\n",
       "      <th>Stamp</th>\n",
       "    </tr>\n",
       "    <tr>\n",
       "      <th>Second</th>\n",
       "      <th></th>\n",
       "      <th></th>\n",
       "      <th></th>\n",
       "      <th></th>\n",
       "    </tr>\n",
       "  </thead>\n",
       "  <tbody>\n",
       "    <tr>\n",
       "      <th>0.0</th>\n",
       "      <td>2129</td>\n",
       "      <td>37.141235</td>\n",
       "      <td>74</td>\n",
       "      <td>0.000000</td>\n",
       "    </tr>\n",
       "    <tr>\n",
       "      <th>1.0</th>\n",
       "      <td>3133156</td>\n",
       "      <td>43456.586154</td>\n",
       "      <td>400186</td>\n",
       "      <td>484.177259</td>\n",
       "    </tr>\n",
       "    <tr>\n",
       "      <th>2.0</th>\n",
       "      <td>125609</td>\n",
       "      <td>1474.269011</td>\n",
       "      <td>6138</td>\n",
       "      <td>62.902081</td>\n",
       "    </tr>\n",
       "    <tr>\n",
       "      <th>3.0</th>\n",
       "      <td>3562566</td>\n",
       "      <td>37389.382525</td>\n",
       "      <td>290690</td>\n",
       "      <td>2513.762860</td>\n",
       "    </tr>\n",
       "    <tr>\n",
       "      <th>4.0</th>\n",
       "      <td>989089</td>\n",
       "      <td>9106.467088</td>\n",
       "      <td>116008</td>\n",
       "      <td>712.547978</td>\n",
       "    </tr>\n",
       "    <tr>\n",
       "      <th>5.0</th>\n",
       "      <td>1449396</td>\n",
       "      <td>13076.052659</td>\n",
       "      <td>71416</td>\n",
       "      <td>1487.987339</td>\n",
       "    </tr>\n",
       "    <tr>\n",
       "      <th>6.0</th>\n",
       "      <td>5018427</td>\n",
       "      <td>40441.366341</td>\n",
       "      <td>343768</td>\n",
       "      <td>5120.051856</td>\n",
       "    </tr>\n",
       "    <tr>\n",
       "      <th>7.0</th>\n",
       "      <td>7021917</td>\n",
       "      <td>48736.071135</td>\n",
       "      <td>1496794</td>\n",
       "      <td>7397.876580</td>\n",
       "    </tr>\n",
       "    <tr>\n",
       "      <th>8.0</th>\n",
       "      <td>8468465</td>\n",
       "      <td>50944.071777</td>\n",
       "      <td>2497710</td>\n",
       "      <td>8640.205112</td>\n",
       "    </tr>\n",
       "    <tr>\n",
       "      <th>9.0</th>\n",
       "      <td>4391370</td>\n",
       "      <td>24171.827854</td>\n",
       "      <td>839254</td>\n",
       "      <td>4449.832069</td>\n",
       "    </tr>\n",
       "    <tr>\n",
       "      <th>10.0</th>\n",
       "      <td>996846</td>\n",
       "      <td>5363.431311</td>\n",
       "      <td>14696</td>\n",
       "      <td>1055.048051</td>\n",
       "    </tr>\n",
       "  </tbody>\n",
       "</table>\n",
       "</div>"
      ],
      "text/plain": [
       "            No.          Time   Length        Stamp\n",
       "Second                                             \n",
       "0.0        2129     37.141235       74     0.000000\n",
       "1.0     3133156  43456.586154   400186   484.177259\n",
       "2.0      125609   1474.269011     6138    62.902081\n",
       "3.0     3562566  37389.382525   290690  2513.762860\n",
       "4.0      989089   9106.467088   116008   712.547978\n",
       "5.0     1449396  13076.052659    71416  1487.987339\n",
       "6.0     5018427  40441.366341   343768  5120.051856\n",
       "7.0     7021917  48736.071135  1496794  7397.876580\n",
       "8.0     8468465  50944.071777  2497710  8640.205112\n",
       "9.0     4391370  24171.827854   839254  4449.832069\n",
       "10.0     996846   5363.431311    14696  1055.048051"
      ]
     },
     "execution_count": 30,
     "metadata": {},
     "output_type": "execute_result"
    }
   ],
   "source": [
    "times.groupby('Second').sum('Length')"
   ]
  },
  {
   "cell_type": "code",
   "execution_count": 65,
   "metadata": {},
   "outputs": [
    {
     "data": {
      "text/plain": [
       "0.6076734"
      ]
     },
     "execution_count": 65,
     "metadata": {},
     "output_type": "execute_result"
    }
   ],
   "source": [
    "# 0.608 MB/s management\n",
    "times.Length.sum()/1000000/10"
   ]
  },
  {
   "cell_type": "code",
   "execution_count": 68,
   "metadata": {},
   "outputs": [
    {
     "data": {
      "text/plain": [
       "4.8613872"
      ]
     },
     "execution_count": 68,
     "metadata": {},
     "output_type": "execute_result"
    }
   ],
   "source": [
    "# 4.861 Mb/s management\n",
    "times.Length.sum()/1000000/10*8"
   ]
  },
  {
   "cell_type": "code",
   "execution_count": 72,
   "metadata": {},
   "outputs": [
    {
     "data": {
      "image/png": "[encoded data removed]",
      "text/plain": [
       "<Figure size 648x432 with 1 Axes>"
      ]
     },
     "metadata": {},
     "output_type": "display_data"
    }
   ],
   "source": [
    "fig, ax = plt.subplots(1,1,figsize=(9,6))\n",
    "\n",
    "ax = sns.lineplot(x=\"Second\",y=\"Length\",data=times[1:].groupby('Second').sum('Length')/1000000)\n",
    "\n",
    "ax.set_title('Configuration of mesh network with 80 nodes')\n",
    "ax.set_ylabel('Traffic in management network (MB)')\n",
    "ax.set_xlabel('Second')\n",
    "\n",
    "#ax.set_ylim(0,max(times.service_time)+1)\n",
    "plt.xticks(np.arange(1, 11, 1))\n",
    "\n",
    "#plt.gca().xaxis.grid(True)\n",
    "plt.tight_layout()\n",
    "plt.savefig(\"congestionMB.pdf\")"
   ]
  },
  {
   "cell_type": "code",
   "execution_count": 73,
   "metadata": {},
   "outputs": [
    {
     "data": {
      "image/png": "[encoded data removed]",
      "text/plain": [
       "<Figure size 648x432 with 1 Axes>"
      ]
     },
     "metadata": {},
     "output_type": "display_data"
    }
   ],
   "source": [
    "fig, ax = plt.subplots(1,1,figsize=(9,6))\n",
    "\n",
    "ax = sns.lineplot(x=\"Second\",y=\"Length\",data=times[1:].groupby('Second').sum('Length')/1000000*8)\n",
    "\n",
    "ax.set_title('Configuration of mesh network with 80 nodes')\n",
    "ax.set_ylabel('Traffic in management network (Mb)')\n",
    "ax.set_xlabel('Second')\n",
    "\n",
    "#ax.set_ylim(0,max(times.service_time)+1)\n",
    "plt.xticks(np.arange(1, 11, 1))\n",
    "\n",
    "#plt.gca().xaxis.grid(True)\n",
    "plt.tight_layout()\n",
    "plt.savefig(\"congestionMb.pdf\")"
   ]
  },
  {
   "cell_type": "code",
   "execution_count": null,
   "metadata": {},
   "outputs": [],
   "source": []
  }
 ],
 "metadata": {
  "kernelspec": {
   "display_name": "Python 3",
   "language": "python",
   "name": "python3"
  },
  "language_info": {
   "codemirror_mode": {
    "name": "ipython",
    "version": 3
   },
   "file_extension": ".py",
   "mimetype": "text/x-python",
   "name": "python",
   "nbconvert_exporter": "python",
   "pygments_lexer": "ipython3",
   "version": "3.7.4"
  }
 },
 "nbformat": 4,
 "nbformat_minor": 4
}
